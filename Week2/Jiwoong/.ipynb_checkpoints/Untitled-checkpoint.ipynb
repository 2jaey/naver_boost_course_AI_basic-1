{
 "cells": [
  {
   "cell_type": "code",
   "execution_count": 5,
   "id": "1d62321e",
   "metadata": {},
   "outputs": [
    {
     "name": "stdout",
     "output_type": "stream",
     "text": [
      "['73', '80', '75', '152\\n']\n"
     ]
    }
   ],
   "source": [
    "%timeit\n",
    "\n",
    "file_path = './data-01-test-score.csv'\n",
    "f = open(file_path,'r')\n",
    "data = f.readline().split(',')\n",
    "print(data)"
   ]
  }
 ],
 "metadata": {
  "kernelspec": {
   "display_name": "Python 3 (ipykernel)",
   "language": "python",
   "name": "python3"
  },
  "language_info": {
   "codemirror_mode": {
    "name": "ipython",
    "version": 3
   },
   "file_extension": ".py",
   "mimetype": "text/x-python",
   "name": "python",
   "nbconvert_exporter": "python",
   "pygments_lexer": "ipython3",
   "version": "3.9.5"
  }
 },
 "nbformat": 4,
 "nbformat_minor": 5
}
